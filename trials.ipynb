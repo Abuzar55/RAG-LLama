{
 "cells": [
  {
   "cell_type": "code",
   "execution_count": 1,
   "metadata": {},
   "outputs": [],
   "source": [
    "import os\n",
    "from dotenv import load_dotenv\n",
    "load_dotenv()\n",
    "\n",
    "os.environ['OPENAI_API_KEY'] = os.getenv('OPENAI_API_KEY')"
   ]
  },
  {
   "cell_type": "code",
   "execution_count": 2,
   "metadata": {},
   "outputs": [],
   "source": [
    "from llama_index import VectorStoreIndex, SimpleDirectoryReader\n",
    "documents = SimpleDirectoryReader(\"data\").load_data()"
   ]
  },
  {
   "cell_type": "code",
   "execution_count": 3,
   "metadata": {},
   "outputs": [
    {
     "data": {
      "application/vnd.jupyter.widget-view+json": {
       "model_id": "e9686f1b80ac420088efcd6dda5ed54a",
       "version_major": 2,
       "version_minor": 0
      },
      "text/plain": [
       "Parsing nodes:   0%|          | 0/12 [00:00<?, ?it/s]"
      ]
     },
     "metadata": {},
     "output_type": "display_data"
    },
    {
     "data": {
      "application/vnd.jupyter.widget-view+json": {
       "model_id": "060c306ff64d47498d8f834d5a7e2d7f",
       "version_major": 2,
       "version_minor": 0
      },
      "text/plain": [
       "Generating embeddings:   0%|          | 0/25 [00:00<?, ?it/s]"
      ]
     },
     "metadata": {},
     "output_type": "display_data"
    }
   ],
   "source": [
    "# convertig documents to vectors and index them after wards\n",
    "index = VectorStoreIndex.from_documents(documents, show_progress=True) "
   ]
  },
  {
   "cell_type": "code",
   "execution_count": 4,
   "metadata": {},
   "outputs": [],
   "source": [
    "query = index.as_query_engine()"
   ]
  },
  {
   "cell_type": "code",
   "execution_count": 12,
   "metadata": {},
   "outputs": [],
   "source": [
    "response = query.query(\"What is Resnet\")"
   ]
  },
  {
   "cell_type": "code",
   "execution_count": 13,
   "metadata": {},
   "outputs": [
    {
     "name": "stdout",
     "output_type": "stream",
     "text": [
      "Final Response: ResNet is a deep learning framework that addresses the\n",
      "problem of degradation in training deep neural networks. It introduces\n",
      "the concept of residual learning, where the layers of the network are\n",
      "reformulated as learning residual functions with reference to the\n",
      "layer inputs. This means that instead of trying to directly fit a\n",
      "desired underlying mapping, the layers of the network are trained to\n",
      "fit a residual mapping. This approach makes it easier to optimize the\n",
      "network and allows for the training of extremely deep networks with\n",
      "improved accuracy. ResNet has been shown to achieve excellent results\n",
      "on various image recognition tasks and has been successfully applied\n",
      "to other vision and non-vision problems as well.\n",
      "______________________________________________________________________\n",
      "Source Node 1/2\n",
      "Node ID: e447508d-bb61-4d21-8b59-e103faff732b\n",
      "Similarity: 0.7979506856014876\n",
      "Text: identityweight layer weight layerrelu reluF(x)\u0001+\u0001xx F(x)xFigure\n",
      "2. Residual learning: a building block. are comparably good or better\n",
      "than the constructed solution (or unable to do so in feasible time).\n",
      "In this paper, we address the degradation problem by introducing a\n",
      "deep residual learning framework. In- stead of hoping each few stacked\n",
      "layers...\n",
      "______________________________________________________________________\n",
      "Source Node 2/2\n",
      "Node ID: b923b728-2635-4882-a0aa-c3c29f9e97b8\n",
      "Similarity: 0.7940889767704085\n",
      "Text: Deep Residual Learning for Image Recognition Kaiming He Xiangyu\n",
      "Zhang Shaoqing Ren Jian Sun Microsoft Research {kahe, v-xiangz,\n",
      "v-shren, jiansun }@microsoft.com Abstract Deeper neural networks are\n",
      "more difﬁcult to train. We present a residual learning framework to\n",
      "ease the training of networks that are substantially deeper than those\n",
      "used previo...\n",
      "ResNet is a deep learning framework that addresses the problem of degradation in training deep neural networks. It introduces the concept of residual learning, where the layers of the network are reformulated as learning residual functions with reference to the layer inputs. This means that instead of trying to directly fit a desired underlying mapping, the layers of the network are trained to fit a residual mapping. This approach makes it easier to optimize the network and allows for the training of extremely deep networks with improved accuracy. ResNet has been shown to achieve excellent results on various image recognition tasks and has been successfully applied to other vision and non-vision problems as well.\n"
     ]
    }
   ],
   "source": [
    "from llama_index.response.pprint_utils import pprint_response\n",
    "pprint_response(response, show_source=True)\n",
    "print(response)"
   ]
  },
  {
   "cell_type": "code",
   "execution_count": 14,
   "metadata": {},
   "outputs": [],
   "source": [
    "from llama_index.retrievers import VectorIndexRetriever\n",
    "from llama_index.query_engine import RetrieverQueryEngine\n",
    "from llama_index.indices.postprocessor import SimilarityPostprocessor\n",
    "\n",
    "retriever = VectorIndexRetriever(index=index, similarity_top_k=4)\n",
    "query_engine = RetrieverQueryEngine(retriever=retriever)"
   ]
  },
  {
   "cell_type": "code",
   "execution_count": 15,
   "metadata": {},
   "outputs": [],
   "source": [
    "response = query_engine.query(\"What is Resnet\")"
   ]
  },
  {
   "cell_type": "code",
   "execution_count": 16,
   "metadata": {},
   "outputs": [
    {
     "name": "stdout",
     "output_type": "stream",
     "text": [
      "Final Response: ResNet is a deep learning framework that was\n",
      "introduced to address the problem of degradation in training deep\n",
      "neural networks. It reformulates the layers of a network as learning\n",
      "residual functions with reference to the layer inputs, instead of\n",
      "learning unreferenced functions. This allows for easier optimization\n",
      "and improved accuracy with increased depth. ResNet has been shown to\n",
      "achieve state-of-the-art results on various image recognition tasks,\n",
      "such as ImageNet classification, object detection, and segmentation.\n",
      "______________________________________________________________________\n",
      "Source Node 1/4\n",
      "Node ID: e447508d-bb61-4d21-8b59-e103faff732b\n",
      "Similarity: 0.7979506856014876\n",
      "Text: identityweight layer weight layerrelu reluF(x)\u0001+\u0001xx F(x)xFigure\n",
      "2. Residual learning: a building block. are comparably good or better\n",
      "than the constructed solution (or unable to do so in feasible time).\n",
      "In this paper, we address the degradation problem by introducing a\n",
      "deep residual learning framework. In- stead of hoping each few stacked\n",
      "layers...\n",
      "______________________________________________________________________\n",
      "Source Node 2/4\n",
      "Node ID: b923b728-2635-4882-a0aa-c3c29f9e97b8\n",
      "Similarity: 0.7940889767704085\n",
      "Text: Deep Residual Learning for Image Recognition Kaiming He Xiangyu\n",
      "Zhang Shaoqing Ren Jian Sun Microsoft Research {kahe, v-xiangz,\n",
      "v-shren, jiansun }@microsoft.com Abstract Deeper neural networks are\n",
      "more difﬁcult to train. We present a residual learning framework to\n",
      "ease the training of networks that are substantially deeper than those\n",
      "used previo...\n",
      "______________________________________________________________________\n",
      "Source Node 3/4\n",
      "Node ID: 631c649a-3c98-42e6-a36d-5722bb4a8aef\n",
      "Similarity: 0.7845038053887368\n",
      "Text: A. Object Detection Baselines In this section we introduce our\n",
      "detection method based on the baseline Faster R-CNN [32] system. The\n",
      "models are initialized by the ImageNet classiﬁcation models, and then\n",
      "ﬁne-tuned on the object detection data. We have experi- mented with\n",
      "ResNet-50/101 at the time of the ILSVRC & COCO 2015 detection\n",
      "competitions. U...\n",
      "______________________________________________________________________\n",
      "Source Node 4/4\n",
      "Node ID: ef59325e-8214-46bd-aec5-688aa9ae7f18\n",
      "Similarity: 0.7811328624653839\n",
      "Text: model top-1 err. top-5 err. VGG-16 [41] 28.07 9.33 GoogLeNet\n",
      "[44] - 9.15 PReLU-net [13] 24.27 7.38 plain-34 28.54 10.02 ResNet-34 A\n",
      "25.03 7.76 ResNet-34 B 24.52 7.46 ResNet-34 C 24.19 7.40 ResNet-50\n",
      "22.85 6.71 ResNet-101 21.75 6.05 ResNet-152 21.43 5.71 Table 3. Error\n",
      "rates (%, 10-crop testing) on ImageNet validation. VGG-16 is based on\n",
      "our test...\n",
      "ResNet is a deep learning framework that was introduced to address the problem of degradation in training deep neural networks. It reformulates the layers of a network as learning residual functions with reference to the layer inputs, instead of learning unreferenced functions. This allows for easier optimization and improved accuracy with increased depth. ResNet has been shown to achieve state-of-the-art results on various image recognition tasks, such as ImageNet classification, object detection, and segmentation.\n"
     ]
    }
   ],
   "source": [
    "from llama_index.response.pprint_utils import pprint_response\n",
    "pprint_response(response, show_source=True)\n",
    "print(response)"
   ]
  }
 ],
 "metadata": {
  "kernelspec": {
   "display_name": "Python 3",
   "language": "python",
   "name": "python3"
  },
  "language_info": {
   "codemirror_mode": {
    "name": "ipython",
    "version": 3
   },
   "file_extension": ".py",
   "mimetype": "text/x-python",
   "name": "python",
   "nbconvert_exporter": "python",
   "pygments_lexer": "ipython3",
   "version": "3.9.13"
  }
 },
 "nbformat": 4,
 "nbformat_minor": 2
}
